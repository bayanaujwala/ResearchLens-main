{
 "cells": [
  {
   "cell_type": "code",
   "execution_count": 1,
   "metadata": {},
   "outputs": [],
   "source": [
    "# import logging\n",
    "# import sys\n",
    "\n",
    "# logging.basicConfig(stream=sys.stdout, level=logging.DEBUG)\n",
    "# logging.getLogger().addHandler(logging.StreamHandler(stream=sys.stdout))"
   ]
  },
  {
   "cell_type": "code",
   "execution_count": 1,
   "metadata": {},
   "outputs": [],
   "source": [
    "from llama_index.core import (\n",
    "    SimpleDirectoryReader,\n",
    "    load_index_from_storage,\n",
    "    VectorStoreIndex,\n",
    "    StorageContext,\n",
    ")\n",
    "from llama_index.vector_stores.faiss import FaissVectorStore\n",
    "from IPython.display import Markdown, display"
   ]
  },
  {
   "cell_type": "code",
   "execution_count": 2,
   "metadata": {},
   "outputs": [],
   "source": [
    "import os\n",
    "import openai\n",
    "\n",
    "# needed to synthesize responses later\n",
    "os.environ[\"OPENAI_API_KEY\"] = \"sk-...\"\n",
    "openai.api_key = os.environ[\"OPENAI_API_KEY\"]"
   ]
  },
  {
   "cell_type": "markdown",
   "metadata": {},
   "source": [
    "# Documents"
   ]
  },
  {
   "cell_type": "code",
   "execution_count": 3,
   "metadata": {},
   "outputs": [],
   "source": [
    "# load documents\n",
    "documents = SimpleDirectoryReader(\"/home/surya/NEU/CS5100 FAI/Project/ResearchLens/uploads\").load_data()"
   ]
  },
  {
   "cell_type": "code",
   "execution_count": 4,
   "metadata": {},
   "outputs": [],
   "source": [
    "from llama_index.core.node_parser import SentenceSplitter\n",
    "\n",
    "text_splitter = SentenceSplitter(chunk_size=512, chunk_overlap=10)"
   ]
  },
  {
   "cell_type": "code",
   "execution_count": 5,
   "metadata": {},
   "outputs": [],
   "source": [
    "from llama_index.embeddings.huggingface import HuggingFaceEmbedding\n",
    "\n",
    "# loads BAAI/bge-small-en\n",
    "# embed_model = HuggingFaceEmbedding()\n",
    "\n",
    "# loads BAAI/bge-small-en-v1.5\n",
    "embed_model = HuggingFaceEmbedding(model_name=\"sentence-transformers/all-mpnet-base-v2\")"
   ]
  },
  {
   "cell_type": "code",
   "execution_count": 6,
   "metadata": {},
   "outputs": [
    {
     "name": "stdout",
     "output_type": "stream",
     "text": [
      "LLM is explicitly disabled. Using MockLLM.\n"
     ]
    }
   ],
   "source": [
    "from llama_index.core import Settings\n",
    "\n",
    "Settings.embed_model = embed_model\n",
    "Settings.text_splitter = text_splitter\n",
    "Settings.llm = None"
   ]
  },
  {
   "cell_type": "code",
   "execution_count": 7,
   "metadata": {},
   "outputs": [],
   "source": [
    "index = VectorStoreIndex.from_documents(\n",
    "    documents, embed_model=embed_model, transformations=[text_splitter]\n",
    ")"
   ]
  },
  {
   "cell_type": "markdown",
   "metadata": {},
   "source": [
    "disk away"
   ]
  },
  {
   "cell_type": "code",
   "execution_count": 9,
   "metadata": {},
   "outputs": [],
   "source": [
    "index.storage_context.persist(\"./storage\")"
   ]
  },
  {
   "cell_type": "code",
   "execution_count": 10,
   "metadata": {},
   "outputs": [],
   "source": [
    "# # save index to disk\n",
    "# index.storage_context.persist(\"./storage\")\n",
    "\n",
    "# storage_context = StorageContext.from_defaults(\n",
    "#     persist_dir=\"./storage\"\n",
    "# )\n",
    "# index = load_index_from_storage(storage_context=storage_context)"
   ]
  },
  {
   "cell_type": "markdown",
   "metadata": {},
   "source": [
    "## Test a query"
   ]
  },
  {
   "cell_type": "code",
   "execution_count": 11,
   "metadata": {},
   "outputs": [],
   "source": [
    "query_engine = index.as_query_engine()"
   ]
  },
  {
   "cell_type": "code",
   "execution_count": 12,
   "metadata": {},
   "outputs": [],
   "source": [
    "response = query_engine.query(\"\"\"\n",
    "Table 1: Object tracking datasets comparison. In addition to larger scale than previous datasets,\n",
    "the scenarios captured by EgoTracks represent a significantly harder challenge for SOTA trackers,\n",
    "suggesting room for improved tracking methodology.\n",
    "SOTA\n",
    "Dataset\n",
    " Video Hours\n",
    " Avg. Length (s)\n",
    " Ann. FPS\n",
    " Ann. Type\n",
    " Egocentric\n",
    "(P/AO)∗\n",
    "ImageNet-Vid [62]\n",
    " 15.6\n",
    " 10.6\n",
    " 25\n",
    " mask\n",
    " No\n",
    "YT-VOS [78]\n",
    " 5.8\n",
    " 4.6\n",
    " 5\n",
    " mask\n",
    " No\n",
    " -/83.6 [31]\n",
    "DAVIS 17 [61]\n",
    " 0.125\n",
    " 3\n",
    " 24\n",
    " mask\n",
    " No\n",
    " -/86.3 [7]\n",
    "TAO [15]\n",
    " 29.7\n",
    " 36.8\n",
    " 1\n",
    " mask\n",
    " No\n",
    "UVO [74]\n",
    " 2.8\n",
    " 10\n",
    " 30\n",
    " mask\n",
    " No\n",
    " -/73.7 [58]\n",
    "EPIC-KITCHENS\n",
    "[14]\n",
    " 36\n",
    " 12∗∗\n",
    " 0.9\n",
    " mask\n",
    " Yes\n",
    " -/74.2 [58]\n",
    "VISOR\n",
    "GOT-10k [32]\n",
    " 32.8\n",
    " 12.2\n",
    " 10\n",
    " bbox\n",
    " No\n",
    " -/75.6 [9]\n",
    "OxUvA [68]\n",
    " 14.4\n",
    " 141.2\n",
    " 1\n",
    " bbox\n",
    " No\n",
    "LaSOT [21]\n",
    " 31.92\n",
    " 82.1\n",
    " 30\n",
    " bbox\n",
    " No\n",
    " 80.3/- [9]\n",
    "TrackingNet [57]\n",
    " 125.1\n",
    " 14.7\n",
    " 28\n",
    " bbox\n",
    " No\n",
    " 86/- [9]\n",
    "TREK-150 [19, 20]\n",
    " 0.45\n",
    " 10.81\n",
    " 60\n",
    " bbox\n",
    " Yes\n",
    " -/50.5 [19, 20]\n",
    "EgoTracks (Ours)\n",
    " 602.9\n",
    " 367.9\n",
    " 5\n",
    " bbox\n",
    " Yes\n",
    " 45/54.1\n",
    "∗\n",
    " : P: Precision, AO: average overlap (J-Score for mask-based datasets). ∗∗: Original video is 720s.\n",
    "\"\"\".strip())"
   ]
  }
 ],
 "metadata": {
  "kernelspec": {
   "display_name": "Python 3 (ipykernel)",
   "language": "python",
   "name": "python3"
  },
  "language_info": {
   "codemirror_mode": {
    "name": "ipython",
    "version": 3
   },
   "file_extension": ".py",
   "mimetype": "text/x-python",
   "name": "python",
   "nbconvert_exporter": "python",
   "pygments_lexer": "ipython3",
   "version": "3.10.13"
  }
 },
 "nbformat": 4,
 "nbformat_minor": 4
}
